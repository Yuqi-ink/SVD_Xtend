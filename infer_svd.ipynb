{
 "cells": [
  {
   "cell_type": "code",
   "execution_count": 1,
   "metadata": {},
   "outputs": [
    {
     "name": "stderr",
     "output_type": "stream",
     "text": [
      "/home/xmu/anaconda3/envs/trf/lib/python3.10/site-packages/tqdm/auto.py:21: TqdmWarning: IProgress not found. Please update jupyter and ipywidgets. See https://ipywidgets.readthedocs.io/en/stable/user_install.html\n",
      "  from .autonotebook import tqdm as notebook_tqdm\n"
     ]
    }
   ],
   "source": [
    "import os\n",
    "os.environ['CUDA_VISIBLE_DEVICES'] = '0'\n",
    "import torch\n",
    "import imageio\n",
    "\n",
    "from diffusers import UNetSpatioTemporalConditionModel, StableVideoDiffusionPipeline\n",
    "from diffusers.utils import load_image, export_to_video, export_to_gif"
   ]
  },
  {
   "cell_type": "code",
   "execution_count": 16,
   "metadata": {},
   "outputs": [
    {
     "name": "stderr",
     "output_type": "stream",
     "text": [
      "Loading pipeline components...: 100%|██████████| 5/5 [00:16<00:00,  3.32s/it]\n"
     ]
    },
    {
     "data": {
      "text/plain": [
       "StableVideoDiffusionPipeline {\n",
       "  \"_class_name\": \"StableVideoDiffusionPipeline\",\n",
       "  \"_diffusers_version\": \"0.24.0\",\n",
       "  \"_name_or_path\": \"/data/lyq/data/stable-video-diffusion-img2vid\",\n",
       "  \"feature_extractor\": [\n",
       "    \"transformers\",\n",
       "    \"CLIPImageProcessor\"\n",
       "  ],\n",
       "  \"image_encoder\": [\n",
       "    \"transformers\",\n",
       "    \"CLIPVisionModelWithProjection\"\n",
       "  ],\n",
       "  \"scheduler\": [\n",
       "    \"diffusers\",\n",
       "    \"EulerDiscreteScheduler\"\n",
       "  ],\n",
       "  \"unet\": [\n",
       "    \"diffusers\",\n",
       "    \"UNetSpatioTemporalConditionModel\"\n",
       "  ],\n",
       "  \"vae\": [\n",
       "    \"diffusers\",\n",
       "    \"AutoencoderKLTemporalDecoder\"\n",
       "  ]\n",
       "}"
      ]
     },
     "execution_count": 16,
     "metadata": {},
     "output_type": "execute_result"
    }
   ],
   "source": [
    "path = \"/data/lyq/data/stable-video-diffusion-img2vid\"\n",
    "unet = UNetSpatioTemporalConditionModel.from_pretrained(\n",
    "    path,\n",
    "    subfolder=\"unet\",\n",
    "    torch_dtype=torch.float16,\n",
    "    low_cpu_mem_usage=False,\n",
    ")\n",
    "pipe = StableVideoDiffusionPipeline.from_pretrained(\n",
    "    path,\n",
    "    unet=unet,\n",
    "    low_cpu_mem_usage=False,\n",
    "    torch_dtype=torch.float16, variant=\"fp16\", local_files_only=True,\n",
    ")\n",
    "pipe.to(\"cuda:0\")"
   ]
  },
  {
   "cell_type": "code",
   "execution_count": 19,
   "metadata": {},
   "outputs": [
    {
     "name": "stdout",
     "output_type": "stream",
     "text": [
      "Down block 0:\n",
      "CrossAttnDownBlockSpatioTemporal(\n",
      "  (attentions): ModuleList(\n",
      "    (0-1): 2 x TransformerSpatioTemporalModel(\n",
      "      (norm): GroupNorm(32, 320, eps=1e-06, affine=True)\n",
      "      (proj_in): Linear(in_features=320, out_features=320, bias=True)\n",
      "      (transformer_blocks): ModuleList(\n",
      "        (0): BasicTransformerBlock(\n",
      "          (norm1): LayerNorm((320,), eps=1e-05, elementwise_affine=True)\n",
      "          (attn1): Attention(\n",
      "            (to_q): LoRACompatibleLinear(in_features=320, out_features=320, bias=False)\n",
      "            (to_k): LoRACompatibleLinear(in_features=320, out_features=320, bias=False)\n",
      "            (to_v): LoRACompatibleLinear(in_features=320, out_features=320, bias=False)\n",
      "            (to_out): ModuleList(\n",
      "              (0): LoRACompatibleLinear(in_features=320, out_features=320, bias=True)\n",
      "              (1): Dropout(p=0.0, inplace=False)\n",
      "            )\n",
      "          )\n",
      "          (norm2): LayerNorm((320,), eps=1e-05, elementwise_affine=True)\n",
      "          (attn2): Attention(\n",
      "            (to_q): LoRACompatibleLinear(in_features=320, out_features=320, bias=False)\n",
      "            (to_k): LoRACompatibleLinear(in_features=1024, out_features=320, bias=False)\n",
      "            (to_v): LoRACompatibleLinear(in_features=1024, out_features=320, bias=False)\n",
      "            (to_out): ModuleList(\n",
      "              (0): LoRACompatibleLinear(in_features=320, out_features=320, bias=True)\n",
      "              (1): Dropout(p=0.0, inplace=False)\n",
      "            )\n",
      "          )\n",
      "          (norm3): LayerNorm((320,), eps=1e-05, elementwise_affine=True)\n",
      "          (ff): FeedForward(\n",
      "            (net): ModuleList(\n",
      "              (0): GEGLU(\n",
      "                (proj): LoRACompatibleLinear(in_features=320, out_features=2560, bias=True)\n",
      "              )\n",
      "              (1): Dropout(p=0.0, inplace=False)\n",
      "              (2): LoRACompatibleLinear(in_features=1280, out_features=320, bias=True)\n",
      "            )\n",
      "          )\n",
      "        )\n",
      "      )\n",
      "      (temporal_transformer_blocks): ModuleList(\n",
      "        (0): TemporalBasicTransformerBlock(\n",
      "          (norm_in): LayerNorm((320,), eps=1e-05, elementwise_affine=True)\n",
      "          (ff_in): FeedForward(\n",
      "            (net): ModuleList(\n",
      "              (0): GEGLU(\n",
      "                (proj): LoRACompatibleLinear(in_features=320, out_features=2560, bias=True)\n",
      "              )\n",
      "              (1): Dropout(p=0.0, inplace=False)\n",
      "              (2): LoRACompatibleLinear(in_features=1280, out_features=320, bias=True)\n",
      "            )\n",
      "          )\n",
      "          (norm1): LayerNorm((320,), eps=1e-05, elementwise_affine=True)\n",
      "          (attn1): Attention(\n",
      "            (to_q): LoRACompatibleLinear(in_features=320, out_features=320, bias=False)\n",
      "            (to_k): LoRACompatibleLinear(in_features=320, out_features=320, bias=False)\n",
      "            (to_v): LoRACompatibleLinear(in_features=320, out_features=320, bias=False)\n",
      "            (to_out): ModuleList(\n",
      "              (0): LoRACompatibleLinear(in_features=320, out_features=320, bias=True)\n",
      "              (1): Dropout(p=0.0, inplace=False)\n",
      "            )\n",
      "          )\n",
      "          (norm2): LayerNorm((320,), eps=1e-05, elementwise_affine=True)\n",
      "          (attn2): Attention(\n",
      "            (to_q): LoRACompatibleLinear(in_features=320, out_features=320, bias=False)\n",
      "            (to_k): LoRACompatibleLinear(in_features=1024, out_features=320, bias=False)\n",
      "            (to_v): LoRACompatibleLinear(in_features=1024, out_features=320, bias=False)\n",
      "            (to_out): ModuleList(\n",
      "              (0): LoRACompatibleLinear(in_features=320, out_features=320, bias=True)\n",
      "              (1): Dropout(p=0.0, inplace=False)\n",
      "            )\n",
      "          )\n",
      "          (norm3): LayerNorm((320,), eps=1e-05, elementwise_affine=True)\n",
      "          (ff): FeedForward(\n",
      "            (net): ModuleList(\n",
      "              (0): GEGLU(\n",
      "                (proj): LoRACompatibleLinear(in_features=320, out_features=2560, bias=True)\n",
      "              )\n",
      "              (1): Dropout(p=0.0, inplace=False)\n",
      "              (2): LoRACompatibleLinear(in_features=1280, out_features=320, bias=True)\n",
      "            )\n",
      "          )\n",
      "        )\n",
      "      )\n",
      "      (time_pos_embed): TimestepEmbedding(\n",
      "        (linear_1): LoRACompatibleLinear(in_features=320, out_features=1280, bias=True)\n",
      "        (act): SiLU()\n",
      "        (linear_2): LoRACompatibleLinear(in_features=1280, out_features=320, bias=True)\n",
      "      )\n",
      "      (time_proj): Timesteps()\n",
      "      (time_mixer): AlphaBlender()\n",
      "      (proj_out): Linear(in_features=320, out_features=320, bias=True)\n",
      "    )\n",
      "  )\n",
      "  (resnets): ModuleList(\n",
      "    (0-1): 2 x SpatioTemporalResBlock(\n",
      "      (spatial_res_block): ResnetBlock2D(\n",
      "        (norm1): GroupNorm(32, 320, eps=1e-06, affine=True)\n",
      "        (conv1): LoRACompatibleConv(320, 320, kernel_size=(3, 3), stride=(1, 1), padding=(1, 1))\n",
      "        (time_emb_proj): LoRACompatibleLinear(in_features=1280, out_features=320, bias=True)\n",
      "        (norm2): GroupNorm(32, 320, eps=1e-06, affine=True)\n",
      "        (dropout): Dropout(p=0.0, inplace=False)\n",
      "        (conv2): LoRACompatibleConv(320, 320, kernel_size=(3, 3), stride=(1, 1), padding=(1, 1))\n",
      "        (nonlinearity): SiLU()\n",
      "      )\n",
      "      (temporal_res_block): TemporalResnetBlock(\n",
      "        (norm1): GroupNorm(32, 320, eps=1e-06, affine=True)\n",
      "        (conv1): Conv3d(320, 320, kernel_size=(3, 1, 1), stride=(1, 1, 1), padding=(1, 0, 0))\n",
      "        (time_emb_proj): Linear(in_features=1280, out_features=320, bias=True)\n",
      "        (norm2): GroupNorm(32, 320, eps=1e-06, affine=True)\n",
      "        (dropout): Dropout(p=0.0, inplace=False)\n",
      "        (conv2): Conv3d(320, 320, kernel_size=(3, 1, 1), stride=(1, 1, 1), padding=(1, 0, 0))\n",
      "        (nonlinearity): SiLU()\n",
      "      )\n",
      "      (time_mixer): AlphaBlender()\n",
      "    )\n",
      "  )\n",
      "  (downsamplers): ModuleList(\n",
      "    (0): Downsample2D(\n",
      "      (conv): LoRACompatibleConv(320, 320, kernel_size=(3, 3), stride=(2, 2), padding=(1, 1))\n",
      "    )\n",
      "  )\n",
      ")\n"
     ]
    }
   ],
   "source": [
    "for i, down_block in enumerate(unet.down_blocks):\n",
    "    print(f\"Down block {i}:\")\n",
    "    print(down_block)\n",
    "    break"
   ]
  },
  {
   "cell_type": "code",
   "execution_count": 3,
   "metadata": {},
   "outputs": [
    {
     "name": "stderr",
     "output_type": "stream",
     "text": [
      "100%|██████████| 30/30 [01:47<00:00,  3.59s/it]\n"
     ]
    }
   ],
   "source": [
    "image = load_image('demo.jpg')\n",
    "image = image.resize((1024, 576))\n",
    "\n",
    "generator = torch.manual_seed(-1)\n",
    "with torch.inference_mode():\n",
    "    frames = pipe(image,\n",
    "                num_frames=24,\n",
    "                width=1024,\n",
    "                height=576,\n",
    "                decode_chunk_size=8, generator=generator, motion_bucket_id=127, fps=8, num_inference_steps=30).frames[0]\n",
    "# export_to_video(frames, \"generated.mp4\", fps=7)\n",
    "imageio.mimsave(\"generated.mp4\", frames, fps=7)"
   ]
  },
  {
   "cell_type": "code",
   "execution_count": 3,
   "metadata": {},
   "outputs": [
    {
     "data": {
      "text/plain": [
       "torch.Size([1])"
      ]
     },
     "execution_count": 3,
     "metadata": {},
     "output_type": "execute_result"
    }
   ],
   "source": [
    "def rand_log_normal(shape, loc=0., scale=1., device='cpu', dtype=torch.float32):\n",
    "    \"\"\"Draws samples from an lognormal distribution.\"\"\"\n",
    "    u = torch.rand(shape, dtype=dtype, device=device) * (1 - 2e-7) + 1e-7\n",
    "    return torch.distributions.Normal(loc, scale).icdf(u).exp()\n",
    "\n",
    "cond_sigmas = rand_log_normal(shape=[1,], loc=-3.0, scale=0.5)\n",
    "# cond_sigmas = cond_sigmas[:, None, None, None, None]\n",
    "\n",
    "cond_sigmas.shape"
   ]
  },
  {
   "cell_type": "code",
   "execution_count": 15,
   "metadata": {},
   "outputs": [
    {
     "data": {
      "text/plain": [
       "tensor([0.8155, 0.8155, 0.8155])"
      ]
     },
     "execution_count": 15,
     "metadata": {},
     "output_type": "execute_result"
    }
   ],
   "source": [
    "sigmas = rand_log_normal(shape=[1,], loc=0.7, scale=1.6)\n",
    "# Add noise to the latents according to the noise magnitude at each timestep\n",
    "# (this is the forward diffusion process)\n",
    "sigmas = sigmas[:, None, None, None, None]\n",
    "timesteps = torch.Tensor(\n",
    "    [0.25 * sigma.log() for sigma in sigmas])\n",
    "timesteps = timesteps.expand(3)\n",
    "timesteps"
   ]
  }
 ],
 "metadata": {
  "kernelspec": {
   "display_name": "trf",
   "language": "python",
   "name": "python3"
  },
  "language_info": {
   "codemirror_mode": {
    "name": "ipython",
    "version": 3
   },
   "file_extension": ".py",
   "mimetype": "text/x-python",
   "name": "python",
   "nbconvert_exporter": "python",
   "pygments_lexer": "ipython3",
   "version": "3.10.15"
  }
 },
 "nbformat": 4,
 "nbformat_minor": 2
}
